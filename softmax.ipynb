{
 "cells": [
  {
   "cell_type": "markdown",
   "metadata": {
    "tags": [
     "pdf-title"
    ]
   },
   "source": [
    "# Softmax exercise\n",
    "\n",
    "*Complete and hand in this completed worksheet (including its outputs and any supporting code outside of the worksheet) with your assignment submission. For more details see the [assignments page](http://vision.stanford.edu/teaching/cs231n/assignments.html) on the course website.*\n",
    "\n",
    "This exercise is analogous to the SVM exercise. You will:\n",
    "\n",
    "- implement a fully-vectorized **loss function** for the Softmax classifier\n",
    "- implement the fully-vectorized expression for its **analytic gradient**\n",
    "- **check your implementation** with numerical gradient\n",
    "- use a validation set to **tune the learning rate and regularization** strength\n",
    "- **optimize** the loss function with **SGD**\n",
    "- **visualize** the final learned weights\n"
   ]
  },
  {
   "cell_type": "code",
   "execution_count": 3,
   "metadata": {
    "tags": [
     "pdf-ignore"
    ]
   },
   "outputs": [],
   "source": [
    "import random\n",
    "import numpy as np\n",
    "from cs231n.data_utils import load_CIFAR10\n",
    "import matplotlib.pyplot as plt\n",
    "\n",
    "%matplotlib inline\n",
    "plt.rcParams['figure.figsize'] = (10.0, 8.0) # set default size of plots\n",
    "plt.rcParams['image.interpolation'] = 'nearest'\n",
    "plt.rcParams['image.cmap'] = 'gray'\n",
    "\n",
    "# for auto-reloading extenrnal modules\n",
    "# see http://stackoverflow.com/questions/1907993/autoreload-of-modules-in-ipython\n",
    "%load_ext autoreload\n",
    "%autoreload 2"
   ]
  },
  {
   "cell_type": "code",
   "execution_count": 5,
   "metadata": {
    "tags": [
     "pdf-ignore"
    ]
   },
   "outputs": [
    {
     "name": "stdout",
     "output_type": "stream",
     "text": [
      "Train data shape:  (49000, 3073)\n",
      "Train labels shape:  (49000,)\n",
      "Validation data shape:  (1000, 3073)\n",
      "Validation labels shape:  (1000,)\n",
      "Test data shape:  (1000, 3073)\n",
      "Test labels shape:  (1000,)\n",
      "dev data shape:  (500, 3073)\n",
      "dev labels shape:  (500,)\n"
     ]
    }
   ],
   "source": [
    "def get_CIFAR10_data(num_training=49000, num_validation=1000, num_test=1000, num_dev=500):\n",
    "    \"\"\"\n",
    "    Load the CIFAR-10 dataset from disk and perform preprocessing to prepare\n",
    "    it for the linear classifier. These are the same steps as we used for the\n",
    "    SVM, but condensed to a single function.  \n",
    "    \"\"\"\n",
    "    # Load the raw CIFAR-10 data\n",
    "    cifar10_dir = '/media/volume1/juna/practice/cifar-10-batches-py'\n",
    "    \n",
    "    # Cleaning up variables to prevent loading data multiple times (which may cause memory issue)\n",
    "    try:\n",
    "       del X_train, y_train\n",
    "       del X_test, y_test\n",
    "       print('Clear previously loaded data.')\n",
    "    except:\n",
    "       pass\n",
    "\n",
    "    X_train, y_train, X_test, y_test = load_CIFAR10(cifar10_dir)\n",
    "    \n",
    "    # subsample the data\n",
    "    mask = list(range(num_training, num_training + num_validation))\n",
    "    X_val = X_train[mask]\n",
    "    y_val = y_train[mask]\n",
    "    mask = list(range(num_training))\n",
    "    X_train = X_train[mask]\n",
    "    y_train = y_train[mask]\n",
    "    mask = list(range(num_test))\n",
    "    X_test = X_test[mask]\n",
    "    y_test = y_test[mask]\n",
    "    mask = np.random.choice(num_training, num_dev, replace=False)\n",
    "    X_dev = X_train[mask]\n",
    "    y_dev = y_train[mask]\n",
    "    \n",
    "    # Preprocessing: reshape the image data into rows\n",
    "    X_train = np.reshape(X_train, (X_train.shape[0], -1))\n",
    "    X_val = np.reshape(X_val, (X_val.shape[0], -1))\n",
    "    X_test = np.reshape(X_test, (X_test.shape[0], -1))\n",
    "    X_dev = np.reshape(X_dev, (X_dev.shape[0], -1))\n",
    "    \n",
    "    # Normalize the data: subtract the mean image\n",
    "    mean_image = np.mean(X_train, axis = 0)\n",
    "    X_train -= mean_image\n",
    "    X_val -= mean_image\n",
    "    X_test -= mean_image\n",
    "    X_dev -= mean_image\n",
    "    \n",
    "    # add bias dimension and transform into columns\n",
    "    X_train = np.hstack([X_train, np.ones((X_train.shape[0], 1))])\n",
    "    X_val = np.hstack([X_val, np.ones((X_val.shape[0], 1))])\n",
    "    X_test = np.hstack([X_test, np.ones((X_test.shape[0], 1))])\n",
    "    X_dev = np.hstack([X_dev, np.ones((X_dev.shape[0], 1))])\n",
    "    \n",
    "    return X_train, y_train, X_val, y_val, X_test, y_test, X_dev, y_dev\n",
    "\n",
    "\n",
    "# Invoke the above function to get our data.\n",
    "X_train, y_train, X_val, y_val, X_test, y_test, X_dev, y_dev = get_CIFAR10_data()\n",
    "print('Train data shape: ', X_train.shape)\n",
    "print('Train labels shape: ', y_train.shape)\n",
    "print('Validation data shape: ', X_val.shape)\n",
    "print('Validation labels shape: ', y_val.shape)\n",
    "print('Test data shape: ', X_test.shape)\n",
    "print('Test labels shape: ', y_test.shape)\n",
    "print('dev data shape: ', X_dev.shape)\n",
    "print('dev labels shape: ', y_dev.shape)"
   ]
  },
  {
   "cell_type": "markdown",
   "metadata": {},
   "source": [
    "## Softmax Classifier\n",
    "\n",
    "Your code for this section will all be written inside **cs231n/classifiers/softmax.py**. \n"
   ]
  },
  {
   "cell_type": "code",
   "execution_count": 6,
   "metadata": {},
   "outputs": [
    {
     "name": "stdout",
     "output_type": "stream",
     "text": [
      "1.dW.shape:  (3073, 10)\n",
      "2.dW.shape:  (3073, 10)\n",
      "loss: 2.365400\n",
      "sanity check: 2.302585\n"
     ]
    }
   ],
   "source": [
    "# First implement the naive softmax loss function with nested loops.\n",
    "# Open the file cs231n/classifiers/softmax.py and implement the\n",
    "# softmax_loss_naive function.\n",
    "\n",
    "from cs231n.classifiers.softmax import softmax_loss_naive\n",
    "import time\n",
    "\n",
    "# Generate a random softmax weight matrix and use it to compute the loss.\n",
    "W = np.random.randn(3073, 10) * 0.0001\n",
    "loss, grad = softmax_loss_naive(W, X_dev, y_dev, 0.0)\n",
    "\n",
    "# As a rough sanity check, our loss should be something close to -log(0.1).\n",
    "print('loss: %f' % loss)\n",
    "print('sanity check: %f' % (-np.log(0.1)))"
   ]
  },
  {
   "cell_type": "markdown",
   "metadata": {
    "tags": [
     "pdf-inline"
    ]
   },
   "source": [
    "**Inline Question 1**\n",
    "\n",
    "Why do we expect our loss to be close to -log(0.1)? Explain briefly.**\n",
    "\n",
    "$\\color{blue}{\\textit Your Answer:}$ *Fill this in*\n",
    "처음에는 w이 수정되지않고 0에 가까운 값들로 들어가있기때문에 normalize취한 값이 0.1(class 10개중에 correct class 1개의 확률)정도로 나오게 되므로 log(0.1)과 비슷한 값이나온다"
   ]
  },
  {
   "cell_type": "code",
   "execution_count": 31,
   "metadata": {
    "scrolled": false
   },
   "outputs": [
    {
     "name": "stdout",
     "output_type": "stream",
     "text": [
      "numerical: -760.216878 analytic: -728.635247, relative error: 2.121207e-02\n",
      "numerical: 709.719486 analytic: 2823.355028, relative error: 5.982426e-01\n",
      "numerical: -209.349788 analytic: 1484.311590, relative error: 1.000000e+00\n",
      "numerical: -472.406102 analytic: 196.724458, relative error: 1.000000e+00\n",
      "numerical: 903.096555 analytic: 2165.771230, relative error: 4.114464e-01\n",
      "numerical: 607.208387 analytic: -436.699186, relative error: 1.000000e+00\n",
      "numerical: -546.406305 analytic: -555.400707, relative error: 8.163320e-03\n",
      "numerical: -1044.065850 analytic: -1387.886790, relative error: 1.413765e-01\n",
      "numerical: 675.557193 analytic: 1422.791046, relative error: 3.561057e-01\n",
      "numerical: 777.151143 analytic: 1494.752883, relative error: 3.158592e-01\n",
      "numerical: -577.160068 analytic: -3159.405902, relative error: 6.910746e-01\n",
      "numerical: 120.959657 analytic: 379.008321, relative error: 5.161304e-01\n",
      "numerical: -54.464020 analytic: 165.878977, relative error: 1.000000e+00\n",
      "numerical: -2024.529541 analytic: -4969.536726, relative error: 4.210722e-01\n",
      "numerical: -858.938573 analytic: -83.345073, relative error: 8.230998e-01\n",
      "numerical: -2055.044288 analytic: -5512.932289, relative error: 4.569105e-01\n",
      "numerical: 518.518252 analytic: 316.881797, relative error: 2.413651e-01\n",
      "numerical: -1903.735723 analytic: -3810.988948, relative error: 3.337437e-01\n",
      "numerical: -234.775677 analytic: -523.259439, relative error: 3.805678e-01\n",
      "numerical: -1072.861544 analytic: -1199.170868, relative error: 5.559310e-02\n"
     ]
    }
   ],
   "source": [
    "# Complete the implementation of softmax_loss_naive and implement a (naive)\n",
    "# version of the gradient that uses nested loops.\n",
    "loss, grad = softmax_loss_naive(W, X_dev, y_dev, 0.0)\n",
    "\n",
    "# As we did for the SVM, use numeric gradient checking as a debugging tool.\n",
    "# The numeric gradient should be close to the analytic gradient.\n",
    "from cs231n.gradient_check import grad_check_sparse\n",
    "f = lambda w: softmax_loss_naive(w, X_dev, y_dev, 0.0)[0]\n",
    "grad_numerical = grad_check_sparse(f, W, grad, 10)\n",
    "\n",
    "# similar to SVM case, do another gradient check with regularization\n",
    "loss, grad = softmax_loss_naive(W, X_dev, y_dev, 5e1)\n",
    "f = lambda w: softmax_loss_naive(w, X_dev, y_dev, 5e1)[0]\n",
    "grad_numerical = grad_check_sparse(f, W, grad, 10)"
   ]
  },
  {
   "cell_type": "code",
   "execution_count": 21,
   "metadata": {
    "scrolled": false
   },
   "outputs": [
    {
     "name": "stdout",
     "output_type": "stream",
     "text": [
      "naive loss: 2.365400e+00 computed in 0.218362s\n",
      "vectorized loss: 2.365400e+00 computed in 0.002524s\n",
      "Loss difference: 0.000000\n",
      "Gradient difference: 0.000000\n"
     ]
    }
   ],
   "source": [
    "# Now that we have a naive implementation of the softmax loss function and its gradient,\n",
    "# implement a vectorized version in softmax_loss_vectorized.\n",
    "# The two versions should compute the same results, but the vectorized version should be\n",
    "# much faster.\n",
    "tic = time.time()\n",
    "loss_naive, grad_naive = softmax_loss_naive(W, X_dev, y_dev, 0.000005)\n",
    "toc = time.time()\n",
    "print('naive loss: %e computed in %fs' % (loss_naive, toc - tic))\n",
    "\n",
    "from cs231n.classifiers.softmax import softmax_loss_vectorized\n",
    "tic = time.time()\n",
    "loss_vectorized, grad_vectorized = softmax_loss_vectorized(W, X_dev, y_dev, 0.000005)\n",
    "toc = time.time()\n",
    "print('vectorized loss: %e computed in %fs' % (loss_vectorized, toc - tic))\n",
    "\n",
    "# As we did for the SVM, we use the Frobenius norm to compare the two versions\n",
    "# of the gradient.\n",
    "grad_difference = np.linalg.norm(grad_naive - grad_vectorized, ord='fro')\n",
    "print('Loss difference: %f' % np.abs(loss_naive - loss_vectorized))\n",
    "print('Gradient difference: %f' % grad_difference)"
   ]
  },
  {
   "cell_type": "code",
   "execution_count": 25,
   "metadata": {
    "tags": [
     "code"
    ]
   },
   "outputs": [
    {
     "name": "stdout",
     "output_type": "stream",
     "text": [
      "(%d , %d) finished 0 0\n",
      "(%d , %d) finished 0 1\n",
      "(%d , %d) finished 0 2\n",
      "(%d , %d) finished 0 3\n",
      "(%d , %d) finished 0 4\n",
      "(%d , %d) finished 0 5\n",
      "(%d , %d) finished 0 6\n",
      "(%d , %d) finished 0 7\n",
      "(%d , %d) finished 0 8\n",
      "(%d , %d) finished 0 9\n",
      "(%d , %d) finished 1 0\n",
      "(%d , %d) finished 1 1\n",
      "(%d , %d) finished 1 2\n",
      "(%d , %d) finished 1 3\n",
      "(%d , %d) finished 1 4\n",
      "(%d , %d) finished 1 5\n",
      "(%d , %d) finished 1 6\n",
      "(%d , %d) finished 1 7\n",
      "(%d , %d) finished 1 8\n",
      "(%d , %d) finished 1 9\n",
      "(%d , %d) finished 2 0\n",
      "(%d , %d) finished 2 1\n",
      "(%d , %d) finished 2 2\n",
      "(%d , %d) finished 2 3\n",
      "(%d , %d) finished 2 4\n",
      "(%d , %d) finished 2 5\n",
      "(%d , %d) finished 2 6\n",
      "(%d , %d) finished 2 7\n",
      "(%d , %d) finished 2 8\n",
      "(%d , %d) finished 2 9\n",
      "(%d , %d) finished 3 0\n",
      "(%d , %d) finished 3 1\n",
      "(%d , %d) finished 3 2\n",
      "(%d , %d) finished 3 3\n",
      "(%d , %d) finished 3 4\n",
      "(%d , %d) finished 3 5\n",
      "(%d , %d) finished 3 6\n",
      "(%d , %d) finished 3 7\n",
      "(%d , %d) finished 3 8\n",
      "(%d , %d) finished 3 9\n",
      "(%d , %d) finished 4 0\n",
      "(%d , %d) finished 4 1\n",
      "(%d , %d) finished 4 2\n",
      "(%d , %d) finished 4 3\n",
      "(%d , %d) finished 4 4\n",
      "(%d , %d) finished 4 5\n",
      "(%d , %d) finished 4 6\n",
      "(%d , %d) finished 4 7\n",
      "(%d , %d) finished 4 8\n",
      "(%d , %d) finished 4 9\n",
      "(%d , %d) finished 5 0\n",
      "(%d , %d) finished 5 1\n",
      "(%d , %d) finished 5 2\n",
      "(%d , %d) finished 5 3\n",
      "(%d , %d) finished 5 4\n",
      "(%d , %d) finished 5 5\n",
      "(%d , %d) finished 5 6\n",
      "(%d , %d) finished 5 7\n",
      "(%d , %d) finished 5 8\n",
      "(%d , %d) finished 5 9\n",
      "(%d , %d) finished 6 0\n",
      "(%d , %d) finished 6 1\n",
      "(%d , %d) finished 6 2\n",
      "(%d , %d) finished 6 3\n",
      "(%d , %d) finished 6 4\n",
      "(%d , %d) finished 6 5\n",
      "(%d , %d) finished 6 6\n",
      "(%d , %d) finished 6 7\n",
      "(%d , %d) finished 6 8\n",
      "(%d , %d) finished 6 9\n",
      "(%d , %d) finished 7 0\n",
      "(%d , %d) finished 7 1\n",
      "(%d , %d) finished 7 2\n",
      "(%d , %d) finished 7 3\n",
      "(%d , %d) finished 7 4\n",
      "(%d , %d) finished 7 5\n",
      "(%d , %d) finished 7 6\n",
      "(%d , %d) finished 7 7\n",
      "(%d , %d) finished 7 8\n",
      "(%d , %d) finished 7 9\n",
      "(%d , %d) finished 8 0\n",
      "(%d , %d) finished 8 1\n",
      "(%d , %d) finished 8 2\n",
      "(%d , %d) finished 8 3\n",
      "(%d , %d) finished 8 4\n",
      "(%d , %d) finished 8 5\n",
      "(%d , %d) finished 8 6\n",
      "(%d , %d) finished 8 7\n",
      "(%d , %d) finished 8 8\n",
      "(%d , %d) finished 8 9\n",
      "(%d , %d) finished 9 0\n",
      "(%d , %d) finished 9 1\n",
      "(%d , %d) finished 9 2\n",
      "(%d , %d) finished 9 3\n",
      "(%d , %d) finished 9 4\n",
      "(%d , %d) finished 9 5\n",
      "(%d , %d) finished 9 6\n",
      "(%d , %d) finished 9 7\n",
      "(%d , %d) finished 9 8\n",
      "(%d , %d) finished 9 9\n",
      "lr 1.000000e-07 reg 2.500000e+04 train accuracy: 0.327286 val accuracy: 0.345000\n",
      "lr 1.000000e-07 reg 2.777778e+04 train accuracy: 0.319939 val accuracy: 0.333000\n",
      "lr 1.000000e-07 reg 3.055556e+04 train accuracy: 0.328449 val accuracy: 0.336000\n",
      "lr 1.000000e-07 reg 3.333333e+04 train accuracy: 0.323245 val accuracy: 0.336000\n",
      "lr 1.000000e-07 reg 3.611111e+04 train accuracy: 0.322796 val accuracy: 0.337000\n",
      "lr 1.000000e-07 reg 3.888889e+04 train accuracy: 0.313857 val accuracy: 0.330000\n",
      "lr 1.000000e-07 reg 4.166667e+04 train accuracy: 0.316204 val accuracy: 0.326000\n",
      "lr 1.000000e-07 reg 4.444444e+04 train accuracy: 0.314796 val accuracy: 0.334000\n",
      "lr 1.000000e-07 reg 4.722222e+04 train accuracy: 0.308143 val accuracy: 0.334000\n",
      "lr 1.000000e-07 reg 5.000000e+04 train accuracy: 0.319776 val accuracy: 0.333000\n",
      "lr 1.444444e-07 reg 2.500000e+04 train accuracy: 0.332184 val accuracy: 0.349000\n",
      "lr 1.444444e-07 reg 2.777778e+04 train accuracy: 0.319510 val accuracy: 0.333000\n",
      "lr 1.444444e-07 reg 3.055556e+04 train accuracy: 0.325163 val accuracy: 0.332000\n",
      "lr 1.444444e-07 reg 3.333333e+04 train accuracy: 0.318143 val accuracy: 0.334000\n",
      "lr 1.444444e-07 reg 3.611111e+04 train accuracy: 0.313571 val accuracy: 0.326000\n",
      "lr 1.444444e-07 reg 3.888889e+04 train accuracy: 0.317878 val accuracy: 0.333000\n",
      "lr 1.444444e-07 reg 4.166667e+04 train accuracy: 0.312490 val accuracy: 0.322000\n",
      "lr 1.444444e-07 reg 4.444444e+04 train accuracy: 0.306490 val accuracy: 0.319000\n",
      "lr 1.444444e-07 reg 4.722222e+04 train accuracy: 0.310878 val accuracy: 0.324000\n",
      "lr 1.444444e-07 reg 5.000000e+04 train accuracy: 0.310980 val accuracy: 0.323000\n",
      "lr 1.888889e-07 reg 2.500000e+04 train accuracy: 0.330592 val accuracy: 0.333000\n",
      "lr 1.888889e-07 reg 2.777778e+04 train accuracy: 0.326612 val accuracy: 0.336000\n",
      "lr 1.888889e-07 reg 3.055556e+04 train accuracy: 0.315224 val accuracy: 0.335000\n",
      "lr 1.888889e-07 reg 3.333333e+04 train accuracy: 0.320408 val accuracy: 0.330000\n",
      "lr 1.888889e-07 reg 3.611111e+04 train accuracy: 0.307571 val accuracy: 0.334000\n",
      "lr 1.888889e-07 reg 3.888889e+04 train accuracy: 0.307837 val accuracy: 0.329000\n",
      "lr 1.888889e-07 reg 4.166667e+04 train accuracy: 0.318510 val accuracy: 0.342000\n",
      "lr 1.888889e-07 reg 4.444444e+04 train accuracy: 0.317776 val accuracy: 0.329000\n",
      "lr 1.888889e-07 reg 4.722222e+04 train accuracy: 0.308469 val accuracy: 0.315000\n",
      "lr 1.888889e-07 reg 5.000000e+04 train accuracy: 0.311184 val accuracy: 0.320000\n",
      "lr 2.333333e-07 reg 2.500000e+04 train accuracy: 0.324939 val accuracy: 0.342000\n",
      "lr 2.333333e-07 reg 2.777778e+04 train accuracy: 0.327898 val accuracy: 0.337000\n",
      "lr 2.333333e-07 reg 3.055556e+04 train accuracy: 0.313286 val accuracy: 0.326000\n",
      "lr 2.333333e-07 reg 3.333333e+04 train accuracy: 0.325429 val accuracy: 0.340000\n",
      "lr 2.333333e-07 reg 3.611111e+04 train accuracy: 0.311571 val accuracy: 0.329000\n",
      "lr 2.333333e-07 reg 3.888889e+04 train accuracy: 0.320469 val accuracy: 0.338000\n",
      "lr 2.333333e-07 reg 4.166667e+04 train accuracy: 0.313878 val accuracy: 0.329000\n",
      "lr 2.333333e-07 reg 4.444444e+04 train accuracy: 0.306653 val accuracy: 0.325000\n",
      "lr 2.333333e-07 reg 4.722222e+04 train accuracy: 0.307959 val accuracy: 0.322000\n",
      "lr 2.333333e-07 reg 5.000000e+04 train accuracy: 0.301327 val accuracy: 0.325000\n",
      "lr 2.777778e-07 reg 2.500000e+04 train accuracy: 0.332490 val accuracy: 0.351000\n",
      "lr 2.777778e-07 reg 2.777778e+04 train accuracy: 0.318571 val accuracy: 0.337000\n",
      "lr 2.777778e-07 reg 3.055556e+04 train accuracy: 0.326020 val accuracy: 0.333000\n",
      "lr 2.777778e-07 reg 3.333333e+04 train accuracy: 0.319061 val accuracy: 0.328000\n",
      "lr 2.777778e-07 reg 3.611111e+04 train accuracy: 0.316735 val accuracy: 0.331000\n",
      "lr 2.777778e-07 reg 3.888889e+04 train accuracy: 0.313082 val accuracy: 0.332000\n",
      "lr 2.777778e-07 reg 4.166667e+04 train accuracy: 0.315122 val accuracy: 0.330000\n",
      "lr 2.777778e-07 reg 4.444444e+04 train accuracy: 0.314980 val accuracy: 0.333000\n",
      "lr 2.777778e-07 reg 4.722222e+04 train accuracy: 0.298939 val accuracy: 0.314000\n",
      "lr 2.777778e-07 reg 5.000000e+04 train accuracy: 0.306918 val accuracy: 0.323000\n",
      "lr 3.222222e-07 reg 2.500000e+04 train accuracy: 0.337673 val accuracy: 0.357000\n",
      "lr 3.222222e-07 reg 2.777778e+04 train accuracy: 0.325286 val accuracy: 0.342000\n",
      "lr 3.222222e-07 reg 3.055556e+04 train accuracy: 0.324143 val accuracy: 0.333000\n",
      "lr 3.222222e-07 reg 3.333333e+04 train accuracy: 0.313061 val accuracy: 0.326000\n",
      "lr 3.222222e-07 reg 3.611111e+04 train accuracy: 0.320163 val accuracy: 0.325000\n",
      "lr 3.222222e-07 reg 3.888889e+04 train accuracy: 0.309490 val accuracy: 0.325000\n",
      "lr 3.222222e-07 reg 4.166667e+04 train accuracy: 0.309143 val accuracy: 0.322000\n",
      "lr 3.222222e-07 reg 4.444444e+04 train accuracy: 0.310041 val accuracy: 0.319000\n",
      "lr 3.222222e-07 reg 4.722222e+04 train accuracy: 0.314122 val accuracy: 0.332000\n",
      "lr 3.222222e-07 reg 5.000000e+04 train accuracy: 0.309184 val accuracy: 0.323000\n",
      "lr 3.666667e-07 reg 2.500000e+04 train accuracy: 0.331816 val accuracy: 0.340000\n",
      "lr 3.666667e-07 reg 2.777778e+04 train accuracy: 0.323224 val accuracy: 0.344000\n",
      "lr 3.666667e-07 reg 3.055556e+04 train accuracy: 0.320857 val accuracy: 0.331000\n",
      "lr 3.666667e-07 reg 3.333333e+04 train accuracy: 0.315286 val accuracy: 0.334000\n",
      "lr 3.666667e-07 reg 3.611111e+04 train accuracy: 0.322796 val accuracy: 0.338000\n",
      "lr 3.666667e-07 reg 3.888889e+04 train accuracy: 0.319571 val accuracy: 0.329000\n",
      "lr 3.666667e-07 reg 4.166667e+04 train accuracy: 0.315592 val accuracy: 0.331000\n",
      "lr 3.666667e-07 reg 4.444444e+04 train accuracy: 0.314286 val accuracy: 0.321000\n",
      "lr 3.666667e-07 reg 4.722222e+04 train accuracy: 0.311000 val accuracy: 0.324000\n",
      "lr 3.666667e-07 reg 5.000000e+04 train accuracy: 0.305878 val accuracy: 0.316000\n",
      "lr 4.111111e-07 reg 2.500000e+04 train accuracy: 0.334939 val accuracy: 0.342000\n",
      "lr 4.111111e-07 reg 2.777778e+04 train accuracy: 0.329980 val accuracy: 0.343000\n",
      "lr 4.111111e-07 reg 3.055556e+04 train accuracy: 0.320306 val accuracy: 0.330000\n",
      "lr 4.111111e-07 reg 3.333333e+04 train accuracy: 0.318980 val accuracy: 0.326000\n",
      "lr 4.111111e-07 reg 3.611111e+04 train accuracy: 0.318755 val accuracy: 0.334000\n",
      "lr 4.111111e-07 reg 3.888889e+04 train accuracy: 0.319673 val accuracy: 0.332000\n",
      "lr 4.111111e-07 reg 4.166667e+04 train accuracy: 0.310633 val accuracy: 0.324000\n",
      "lr 4.111111e-07 reg 4.444444e+04 train accuracy: 0.309265 val accuracy: 0.319000\n",
      "lr 4.111111e-07 reg 4.722222e+04 train accuracy: 0.312694 val accuracy: 0.317000\n",
      "lr 4.111111e-07 reg 5.000000e+04 train accuracy: 0.300245 val accuracy: 0.323000\n",
      "lr 4.555556e-07 reg 2.500000e+04 train accuracy: 0.327041 val accuracy: 0.340000\n",
      "lr 4.555556e-07 reg 2.777778e+04 train accuracy: 0.331918 val accuracy: 0.338000\n",
      "lr 4.555556e-07 reg 3.055556e+04 train accuracy: 0.309163 val accuracy: 0.328000\n",
      "lr 4.555556e-07 reg 3.333333e+04 train accuracy: 0.311755 val accuracy: 0.323000\n",
      "lr 4.555556e-07 reg 3.611111e+04 train accuracy: 0.318327 val accuracy: 0.328000\n",
      "lr 4.555556e-07 reg 3.888889e+04 train accuracy: 0.304653 val accuracy: 0.316000\n",
      "lr 4.555556e-07 reg 4.166667e+04 train accuracy: 0.315429 val accuracy: 0.318000\n",
      "lr 4.555556e-07 reg 4.444444e+04 train accuracy: 0.294449 val accuracy: 0.312000\n",
      "lr 4.555556e-07 reg 4.722222e+04 train accuracy: 0.297796 val accuracy: 0.308000\n",
      "lr 4.555556e-07 reg 5.000000e+04 train accuracy: 0.310755 val accuracy: 0.325000\n",
      "lr 5.000000e-07 reg 2.500000e+04 train accuracy: 0.332837 val accuracy: 0.346000\n",
      "lr 5.000000e-07 reg 2.777778e+04 train accuracy: 0.322633 val accuracy: 0.328000\n",
      "lr 5.000000e-07 reg 3.055556e+04 train accuracy: 0.326122 val accuracy: 0.342000\n",
      "lr 5.000000e-07 reg 3.333333e+04 train accuracy: 0.315000 val accuracy: 0.315000\n",
      "lr 5.000000e-07 reg 3.611111e+04 train accuracy: 0.325122 val accuracy: 0.327000\n",
      "lr 5.000000e-07 reg 3.888889e+04 train accuracy: 0.311306 val accuracy: 0.321000\n",
      "lr 5.000000e-07 reg 4.166667e+04 train accuracy: 0.306673 val accuracy: 0.324000\n",
      "lr 5.000000e-07 reg 4.444444e+04 train accuracy: 0.304469 val accuracy: 0.323000\n",
      "lr 5.000000e-07 reg 4.722222e+04 train accuracy: 0.309306 val accuracy: 0.327000\n",
      "lr 5.000000e-07 reg 5.000000e+04 train accuracy: 0.310898 val accuracy: 0.327000\n",
      "best validation accuracy achieved during cross-validation: 0.357000\n"
     ]
    }
   ],
   "source": [
    "# Use the validation set to tune hyperparameters (regularization strength and\n",
    "# learning rate). You should experiment with different ranges for the learning\n",
    "# rates and regularization strengths; if you are careful you should be able to\n",
    "# get a classification accuracy of over 0.35 on the validation set.\n",
    "from cs231n.classifiers import Softmax\n",
    "results = {}\n",
    "best_val = -1\n",
    "best_softmax = None\n",
    "learning_rates = np.linspace(1e-7, 5e-7, 10)\n",
    "reg= np.linspace(2.5e4, 5e4, 10)\n",
    "\n",
    "################################################################################\n",
    "# TODO:                                                                        #\n",
    "# Use the validation set to set the learning rate and regularization strength. #\n",
    "# This should be identical to the validation that you did for the SVM; save    #\n",
    "# the best trained softmax classifer in best_softmax.                          #\n",
    "################################################################################\n",
    "# *****START OF YOUR CODE (DO NOT DELETE/MODIFY THIS LINE)*****\n",
    "for i in range(10):\n",
    "    for j in range(10):\n",
    "        test_softmax = Softmax()\n",
    "        _ = test_softmax.train(X_train,y_train,learning_rate = learning_rates[i], \n",
    "                              reg = reg[j], num_iters=1000, verbose = False)\n",
    "        \n",
    "        y_train_pred = test_softmax.predict(X_train)\n",
    "        y_val_pred = test_softmax.predict(X_val)\n",
    "        train_acc = np.mean(y_train_pred == y_train)\n",
    "        val_acc = np.mean(y_val_pred == y_val)\n",
    "        \n",
    "        if val_acc > best_val:\n",
    "            best_val = val_acc\n",
    "            best_softmax = test_softmax\n",
    "            \n",
    "        results[learning_rates[i],reg[j]] = (train_acc, val_acc)\n",
    "        print('(%d , %d) finished',i,j)\n",
    "    \n",
    "        \n",
    "pass\n",
    "\n",
    "# *****END OF YOUR CODE (DO NOT DELETE/MODIFY THIS LINE)*****\n",
    "    \n",
    "# Print out results.\n",
    "for lr, reg in sorted(results):\n",
    "    train_accuracy, val_accuracy = results[(lr, reg)]\n",
    "    print('lr %e reg %e train accuracy: %f val accuracy: %f' % (\n",
    "                lr, reg, train_accuracy, val_accuracy))\n",
    "    \n",
    "print('best validation accuracy achieved during cross-validation: %f' % best_val)"
   ]
  },
  {
   "cell_type": "code",
   "execution_count": 26,
   "metadata": {},
   "outputs": [
    {
     "name": "stdout",
     "output_type": "stream",
     "text": [
      "softmax on raw pixels final test set accuracy: 0.348000\n"
     ]
    }
   ],
   "source": [
    "# evaluate on test set\n",
    "# Evaluate the best softmax on test set\n",
    "y_test_pred = best_softmax.predict(X_test)\n",
    "test_accuracy = np.mean(y_test == y_test_pred)\n",
    "print('softmax on raw pixels final test set accuracy: %f' % (test_accuracy, ))"
   ]
  },
  {
   "cell_type": "markdown",
   "metadata": {
    "tags": [
     "pdf-inline"
    ]
   },
   "source": [
    "**Inline Question 2** - *True or False*\n",
    "\n",
    "Suppose the overall training loss is defined as the sum of the per-datapoint loss over all training examples. It is possible to add a new datapoint to a training set that would leave the SVM loss unchanged, but this is not the case with the Softmax classifier loss.\n",
    "\n",
    "$\\color{blue}{\\textit Your Answer:}$\n",
    "\n",
    "\n",
    "$\\color{blue}{\\textit Your Explanation:}$\n",
    "\n"
   ]
  },
  {
   "cell_type": "code",
   "execution_count": 27,
   "metadata": {},
   "outputs": [
    {
     "data": {
      "image/png": "[encoded data removed]",
      "text/plain": [
       "<Figure size 432x288 with 10 Axes>"
      ]
     },
     "metadata": {
      "needs_background": "light"
     },
     "output_type": "display_data"
    }
   ],
   "source": [
    "# Visualize the learned weights for each class\n",
    "w = best_softmax.W[:-1,:] # strip out the bias\n",
    "w = w.reshape(32, 32, 3, 10)\n",
    "\n",
    "w_min, w_max = np.min(w), np.max(w)\n",
    "\n",
    "classes = ['plane', 'car', 'bird', 'cat', 'deer', 'dog', 'frog', 'horse', 'ship', 'truck']\n",
    "for i in range(10):\n",
    "    plt.subplot(2, 5, i + 1)\n",
    "    \n",
    "    # Rescale the weights to be between 0 and 255\n",
    "    wimg = 255.0 * (w[:, :, :, i].squeeze() - w_min) / (w_max - w_min)\n",
    "    plt.imshow(wimg.astype('uint8'))\n",
    "    plt.axis('off')\n",
    "    plt.title(classes[i])"
   ]
  },
  {
   "cell_type": "code",
   "execution_count": null,
   "metadata": {},
   "outputs": [],
   "source": []
  }
 ],
 "metadata": {
  "kernelspec": {
   "display_name": "Python 3",
   "language": "python",
   "name": "python3"
  },
  "language_info": {
   "codemirror_mode": {
    "name": "ipython",
    "version": 3
   },
   "file_extension": ".py",
   "mimetype": "text/x-python",
   "name": "python",
   "nbconvert_exporter": "python",
   "pygments_lexer": "ipython3",
   "version": "3.5.2"
  }
 },
 "nbformat": 4,
 "nbformat_minor": 1
}
